{
  "nbformat": 4,
  "nbformat_minor": 0,
  "metadata": {
    "colab": {
      "provenance": []
    },
    "kernelspec": {
      "name": "python3",
      "display_name": "Python 3"
    },
    "language_info": {
      "name": "python"
    }
  },
  "cells": [
    {
      "cell_type": "code",
      "execution_count": null,
      "metadata": {
        "id": "KwTFkOvx4Gtr",
        "colab": {
          "base_uri": "https://localhost:8080/"
        },
        "outputId": "ef9a82ba-b46b-4f40-cf7a-cb26c31f69ed"
      },
      "outputs": [
        {
          "output_type": "stream",
          "name": "stdout",
          "text": [
            "<class 'list'>\n"
          ]
        }
      ],
      "source": [
        "print(type([]))"
      ]
    },
    {
      "cell_type": "code",
      "source": [
        "class sample:\n",
        "  pass"
      ],
      "metadata": {
        "id": "-nEXGYfv552B"
      },
      "execution_count": null,
      "outputs": []
    },
    {
      "cell_type": "code",
      "source": [
        "x = sample()"
      ],
      "metadata": {
        "id": "SZH9zJIN6fsm"
      },
      "execution_count": null,
      "outputs": []
    },
    {
      "cell_type": "code",
      "source": [
        "print(type(x))"
      ],
      "metadata": {
        "colab": {
          "base_uri": "https://localhost:8080/"
        },
        "id": "RMHva7F86sKK",
        "outputId": "a58e22f0-e9b4-4b8f-8fd7-2c6adfd1a1a9"
      },
      "execution_count": null,
      "outputs": [
        {
          "output_type": "stream",
          "name": "stdout",
          "text": [
            "<class '__main__.sample'>\n"
          ]
        }
      ]
    },
    {
      "cell_type": "code",
      "source": [
        "class Dog:\n",
        "  def __init__(self,bread):\n",
        "    self.bread = bread"
      ],
      "metadata": {
        "id": "r1oRopW_6vvz"
      },
      "execution_count": null,
      "outputs": []
    },
    {
      "cell_type": "code",
      "source": [
        "tommy = Dog(bread='Lab')\n",
        "tison = Dog(bread='huskie')"
      ],
      "metadata": {
        "id": "MXSZw-da7Xiy"
      },
      "execution_count": null,
      "outputs": []
    },
    {
      "cell_type": "code",
      "source": [
        "tommy.bread"
      ],
      "metadata": {
        "colab": {
          "base_uri": "https://localhost:8080/",
          "height": 36
        },
        "id": "6Ys0S5vD8dc4",
        "outputId": "f59d3b06-59b9-4a2f-d561-6fe82e0a9b65"
      },
      "execution_count": null,
      "outputs": [
        {
          "output_type": "execute_result",
          "data": {
            "text/plain": [
              "'Lab'"
            ],
            "application/vnd.google.colaboratory.intrinsic+json": {
              "type": "string"
            }
          },
          "metadata": {},
          "execution_count": 52
        }
      ]
    },
    {
      "cell_type": "code",
      "source": [
        "tison.bread"
      ],
      "metadata": {
        "colab": {
          "base_uri": "https://localhost:8080/",
          "height": 36
        },
        "id": "ZW1aE4l88sH3",
        "outputId": "12bb6025-a3fd-4d67-b2cf-ee4346a472b7"
      },
      "execution_count": null,
      "outputs": [
        {
          "output_type": "execute_result",
          "data": {
            "text/plain": [
              "'huskie'"
            ],
            "application/vnd.google.colaboratory.intrinsic+json": {
              "type": "string"
            }
          },
          "metadata": {},
          "execution_count": 53
        }
      ]
    },
    {
      "cell_type": "code",
      "source": [
        "class Dog:\n",
        "  species='Mamel'\n",
        "  def __init__(self,bread,name):\n",
        "    self.bread = bread\n",
        "    self.name = name"
      ],
      "metadata": {
        "id": "g6iqv0438vkh"
      },
      "execution_count": null,
      "outputs": []
    },
    {
      "cell_type": "code",
      "source": [
        "my_dog = Dog('Lab','Jerry')"
      ],
      "metadata": {
        "id": "mqBg7GnT9xBV"
      },
      "execution_count": null,
      "outputs": []
    },
    {
      "cell_type": "code",
      "source": [
        "my_dog.bread"
      ],
      "metadata": {
        "colab": {
          "base_uri": "https://localhost:8080/",
          "height": 36
        },
        "id": "rolARuir-GZ2",
        "outputId": "c74b9a43-35ed-4b0e-8a47-4823fd95a1cc"
      },
      "execution_count": null,
      "outputs": [
        {
          "output_type": "execute_result",
          "data": {
            "text/plain": [
              "'Lab'"
            ],
            "application/vnd.google.colaboratory.intrinsic+json": {
              "type": "string"
            }
          },
          "metadata": {},
          "execution_count": 56
        }
      ]
    },
    {
      "cell_type": "code",
      "source": [
        "my_dog.name"
      ],
      "metadata": {
        "colab": {
          "base_uri": "https://localhost:8080/",
          "height": 36
        },
        "id": "zJ9Tc-oK-Nm2",
        "outputId": "14087833-2d8c-4d91-ec5e-bf307058c72a"
      },
      "execution_count": null,
      "outputs": [
        {
          "output_type": "execute_result",
          "data": {
            "text/plain": [
              "'Jerry'"
            ],
            "application/vnd.google.colaboratory.intrinsic+json": {
              "type": "string"
            }
          },
          "metadata": {},
          "execution_count": 57
        }
      ]
    },
    {
      "cell_type": "code",
      "source": [
        "my_dog.species"
      ],
      "metadata": {
        "colab": {
          "base_uri": "https://localhost:8080/",
          "height": 36
        },
        "id": "BzFQOOZ4-P8m",
        "outputId": "de1ee229-d757-4f21-c0c0-c54329f6b584"
      },
      "execution_count": null,
      "outputs": [
        {
          "output_type": "execute_result",
          "data": {
            "text/plain": [
              "'Mamel'"
            ],
            "application/vnd.google.colaboratory.intrinsic+json": {
              "type": "string"
            }
          },
          "metadata": {},
          "execution_count": 58
        }
      ]
    },
    {
      "cell_type": "code",
      "source": [
        "class circle:\n",
        "  pi = 3.14\n",
        "  def __init__(self,radius=1):\n",
        "    self.radius = radius\n",
        "    self.area = radius * radius * circle.pi\n",
        "\n",
        "  def setRadius(self,new_radius):\n",
        "    self.radius = new_radius\n",
        "    self.area = new_radius * new_radius * self.pi\n",
        "\n",
        "  def getcircumferance(self):\n",
        "    return self.radius * self.pi * 2"
      ],
      "metadata": {
        "id": "wpzfp7Cl-htp"
      },
      "execution_count": null,
      "outputs": []
    },
    {
      "cell_type": "code",
      "source": [
        "ci = circle()\n",
        "print('The Radius is: ',ci.radius)\n",
        "print('The Area is: ',ci.area)\n",
        "print('The Circumferance is: ',ci.getcircumferance())"
      ],
      "metadata": {
        "colab": {
          "base_uri": "https://localhost:8080/"
        },
        "id": "2mvp0Rq1A4Aw",
        "outputId": "f4346894-379a-4874-d2b4-f6a59148a8fc"
      },
      "execution_count": null,
      "outputs": [
        {
          "output_type": "stream",
          "name": "stdout",
          "text": [
            "The Radius is:  1\n",
            "The Area is:  3.14\n",
            "The Circumferance is:  6.28\n"
          ]
        }
      ]
    },
    {
      "cell_type": "code",
      "source": [
        "ci.setRadius(4)\n",
        "print('The Radius is: ',ci.radius)\n",
        "print('The Area is: ',ci.area)\n",
        "print('The Circumferance is: ',ci.getcircumferance())"
      ],
      "metadata": {
        "colab": {
          "base_uri": "https://localhost:8080/"
        },
        "id": "jD5LbwTCBDex",
        "outputId": "0d1d461b-a4da-4b2d-e91d-a2e97d511e35"
      },
      "execution_count": null,
      "outputs": [
        {
          "output_type": "stream",
          "name": "stdout",
          "text": [
            "The Radius is:  4\n",
            "The Area is:  50.24\n",
            "The Circumferance is:  25.12\n"
          ]
        }
      ]
    },
    {
      "cell_type": "code",
      "source": [
        "class track:\n",
        "  def __init__(self,coor1,coor2): # Coordinates \n",
        "    self.coor1 = coor1\n",
        "    self.coor2 = coor2\n",
        "\n",
        "  def distance(self):\n",
        "    x1,y1 = self.coor1\n",
        "    x2,y2 = self.coor2\n",
        "    return ((x2 - x1)**2 + (y2 - y1)**2)**0.5\n",
        "\n",
        "  def slope(self):\n",
        "    x1,y1 = self.coor1\n",
        "    x2,y2 = self.coor2\n",
        "    return (y2 - y1)/(x2 - x1) "
      ],
      "metadata": {
        "id": "wOkRpeyYChYe"
      },
      "execution_count": null,
      "outputs": []
    },
    {
      "cell_type": "code",
      "source": [
        "c1 = (12,9)\n",
        "c2 = (3,8)"
      ],
      "metadata": {
        "id": "BgkTjAB8D-g6"
      },
      "execution_count": null,
      "outputs": []
    },
    {
      "cell_type": "code",
      "source": [
        "find = track(c1,c2)"
      ],
      "metadata": {
        "id": "QGpdcDD_FUfU"
      },
      "execution_count": null,
      "outputs": []
    },
    {
      "cell_type": "code",
      "source": [
        "find.distance()"
      ],
      "metadata": {
        "colab": {
          "base_uri": "https://localhost:8080/"
        },
        "id": "J_MFvN6_Ffe6",
        "outputId": "b4daccfe-9a89-4ff0-c576-9cdaca95644f"
      },
      "execution_count": null,
      "outputs": [
        {
          "output_type": "execute_result",
          "data": {
            "text/plain": [
              "9.055385138137417"
            ]
          },
          "metadata": {},
          "execution_count": 65
        }
      ]
    },
    {
      "cell_type": "code",
      "source": [
        "find.slope()"
      ],
      "metadata": {
        "colab": {
          "base_uri": "https://localhost:8080/"
        },
        "id": "81xD4A9NFig3",
        "outputId": "2ea812db-cc33-4a92-da79-d4ab962bdd1a"
      },
      "execution_count": null,
      "outputs": [
        {
          "output_type": "execute_result",
          "data": {
            "text/plain": [
              "0.1111111111111111"
            ]
          },
          "metadata": {},
          "execution_count": 66
        }
      ]
    },
    {
      "cell_type": "code",
      "source": [
        "class Account:\n",
        "  def __init__(self,owner,balance = 0):\n",
        "    self.owner = owner\n",
        "    self.balance = balance\n",
        "\n",
        "  \n",
        "  def __str__(self):\n",
        "    return f'Account_Owner:               {self.owner}\\nAccount balance:             ${self.balance}'\n",
        "\n",
        "  \n",
        "  def deposit(self,dep_amt):\n",
        "    self.balance += dep_amt\n",
        "    print('Deposit Accepted')\n",
        "  \n",
        "\n",
        "  def withdraw(self,wd_amt):\n",
        "    if self.balance >= wd_amt:\n",
        "      self.balance -= wd_amt\n",
        "      print('Withdraw Accepted')\n",
        "    else:\n",
        "      print('Funds Unavailable')\n",
        "  "
      ],
      "metadata": {
        "id": "x5KqIHMyFlNY"
      },
      "execution_count": null,
      "outputs": []
    },
    {
      "cell_type": "code",
      "source": [
        "acc1 = Account('Aman',10000)"
      ],
      "metadata": {
        "id": "bLD1RXbCL0Cg"
      },
      "execution_count": null,
      "outputs": []
    },
    {
      "cell_type": "code",
      "source": [
        "print(acc1)"
      ],
      "metadata": {
        "colab": {
          "base_uri": "https://localhost:8080/"
        },
        "id": "CCNKS2r9MhNG",
        "outputId": "1f00f614-a689-4e9f-961c-5c0e091fbd94"
      },
      "execution_count": null,
      "outputs": [
        {
          "output_type": "stream",
          "name": "stdout",
          "text": [
            "Account_Owner:               Aman\n",
            "Account balance:             $10000\n"
          ]
        }
      ]
    },
    {
      "cell_type": "code",
      "source": [
        "acc1.owner"
      ],
      "metadata": {
        "colab": {
          "base_uri": "https://localhost:8080/",
          "height": 36
        },
        "id": "5yidRSovMj8_",
        "outputId": "1cde0f93-1efa-4d3d-a2b9-29074fdf4922"
      },
      "execution_count": null,
      "outputs": [
        {
          "output_type": "execute_result",
          "data": {
            "text/plain": [
              "'Aman'"
            ],
            "application/vnd.google.colaboratory.intrinsic+json": {
              "type": "string"
            }
          },
          "metadata": {},
          "execution_count": 70
        }
      ]
    },
    {
      "cell_type": "code",
      "source": [
        "acc1.balance"
      ],
      "metadata": {
        "colab": {
          "base_uri": "https://localhost:8080/"
        },
        "id": "zzUR-gYgMtyW",
        "outputId": "4aa09e95-e839-4992-ca04-0f697009951c"
      },
      "execution_count": null,
      "outputs": [
        {
          "output_type": "execute_result",
          "data": {
            "text/plain": [
              "10000"
            ]
          },
          "metadata": {},
          "execution_count": 71
        }
      ]
    },
    {
      "cell_type": "code",
      "source": [
        "acc1.deposit(500)"
      ],
      "metadata": {
        "colab": {
          "base_uri": "https://localhost:8080/"
        },
        "id": "1PWLWcA4MxNH",
        "outputId": "85228c6a-da14-4b17-cd72-20bec40db326"
      },
      "execution_count": null,
      "outputs": [
        {
          "output_type": "stream",
          "name": "stdout",
          "text": [
            "Deposit Accepted\n"
          ]
        }
      ]
    },
    {
      "cell_type": "code",
      "source": [
        "acc1.balance"
      ],
      "metadata": {
        "colab": {
          "base_uri": "https://localhost:8080/"
        },
        "id": "0cvkRrmLM55N",
        "outputId": "e61c1cda-e1e5-4cd5-90da-471d415dea79"
      },
      "execution_count": null,
      "outputs": [
        {
          "output_type": "execute_result",
          "data": {
            "text/plain": [
              "10500"
            ]
          },
          "metadata": {},
          "execution_count": 73
        }
      ]
    },
    {
      "cell_type": "code",
      "source": [
        "acc1.withdraw(20000)"
      ],
      "metadata": {
        "colab": {
          "base_uri": "https://localhost:8080/"
        },
        "id": "CnUf8hlDM8Jz",
        "outputId": "77c61bb5-95a8-4bb3-bf47-6790e9ea5234"
      },
      "execution_count": null,
      "outputs": [
        {
          "output_type": "stream",
          "name": "stdout",
          "text": [
            "Funds Unavailable\n"
          ]
        }
      ]
    },
    {
      "cell_type": "code",
      "source": [
        "acc1.withdraw(5000)"
      ],
      "metadata": {
        "colab": {
          "base_uri": "https://localhost:8080/"
        },
        "id": "TUDAZyoWNIWT",
        "outputId": "b90dc866-2330-442a-b908-188f670db2ac"
      },
      "execution_count": null,
      "outputs": [
        {
          "output_type": "stream",
          "name": "stdout",
          "text": [
            "Withdraw Accepted\n"
          ]
        }
      ]
    },
    {
      "cell_type": "code",
      "source": [
        "acc1.balance"
      ],
      "metadata": {
        "id": "oKYXek_JNTTG",
        "outputId": "fa70a2fd-eed8-4aa3-be83-bd5e28c13bf5",
        "colab": {
          "base_uri": "https://localhost:8080/"
        }
      },
      "execution_count": null,
      "outputs": [
        {
          "output_type": "execute_result",
          "data": {
            "text/plain": [
              "5500"
            ]
          },
          "metadata": {},
          "execution_count": 76
        }
      ]
    },
    {
      "cell_type": "code",
      "source": [],
      "metadata": {
        "id": "DZm5KqGgNVFk"
      },
      "execution_count": null,
      "outputs": []
    }
  ]
}